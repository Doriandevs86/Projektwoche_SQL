{
 "cells": [
  {
   "metadata": {
    "ExecuteTime": {
     "end_time": "2025-01-15T10:03:16.084720Z",
     "start_time": "2025-01-15T10:03:16.077331Z"
    }
   },
   "cell_type": "code",
   "source": [
    "import psycopg\n",
    "import pandas as pd\n",
    "import psycopg2\n",
    "from getpass import getpass\n",
    "from sqlalchemy.orm import Session\n",
    "from sqlalchemy import Text, create_engine"
   ],
   "id": "489e9eb9688f2c29",
   "outputs": [],
   "execution_count": 28
  },
  {
   "metadata": {
    "ExecuteTime": {
     "end_time": "2025-01-15T10:03:16.177309Z",
     "start_time": "2025-01-15T10:03:16.096774Z"
    }
   },
   "cell_type": "code",
   "source": [
    "#check_in:\n",
    "# Verbindung zur PostgreSQL-Datenbank herstellen\n",
    "connection = psycopg2.connect(\n",
    "    dbname=\"musikdaten\",\n",
    "    user=\"postgres\",\n",
    "    password='Datacraft',\n",
    "    host=\"localhost\",\n",
    "    port=\"5432\"\n",
    ")\n",
    "cursor = connection.cursor()"
   ],
   "id": "8431613850733534",
   "outputs": [],
   "execution_count": 29
  },
  {
   "metadata": {
    "ExecuteTime": {
     "end_time": "2025-01-15T10:03:27.020858Z",
     "start_time": "2025-01-15T10:03:16.195015Z"
    }
   },
   "cell_type": "code",
   "source": [
    "# Benutzereingabe für den Künstlernamen\n",
    "artist_name = input(\"Bitte den Namen des Artists eingeben: \")"
   ],
   "id": "86be51a346429a4b",
   "outputs": [],
   "execution_count": 30
  },
  {
   "metadata": {
    "ExecuteTime": {
     "end_time": "2025-01-15T10:03:27.068921Z",
     "start_time": "2025-01-15T10:03:27.061550Z"
    }
   },
   "cell_type": "code",
   "source": [
    "# SQL-Abfrage mit Parameterplatzhaltern\n",
    "query = \"\"\"\n",
    "SELECT MIN(r.title_id) AS title_id,\n",
    "       MAX(CAST(r.track_popularity AS FLOAT)) AS track_popularity,\n",
    "       t.name\n",
    "FROM rating r\n",
    "JOIN title t ON r.title_id = t.title_id\n",
    "JOIN artist a ON t.artist_id = a.artist_id\n",
    "WHERE a.name = %s\n",
    "GROUP BY t.name\n",
    "ORDER BY track_popularity DESC\n",
    "LIMIT 5;\n",
    "\"\"\""
   ],
   "id": "8025bc70284a6c79",
   "outputs": [],
   "execution_count": 31
  },
  {
   "metadata": {
    "ExecuteTime": {
     "end_time": "2025-01-15T10:03:27.155460Z",
     "start_time": "2025-01-15T10:03:27.129619Z"
    }
   },
   "cell_type": "code",
   "source": [
    "# Abfrage ausführen und Parameter übergeben\n",
    "cursor.execute(query, (artist_name,))\n",
    "results = cursor.fetchall()"
   ],
   "id": "60ecfb30a026284c",
   "outputs": [],
   "execution_count": 32
  },
  {
   "metadata": {
    "ExecuteTime": {
     "end_time": "2025-01-15T10:03:27.192737Z",
     "start_time": "2025-01-15T10:03:27.184182Z"
    }
   },
   "cell_type": "code",
   "source": [
    "# Ergebnisse anzeigen\n",
    "if results:\n",
    "    print(f\"Top 5 Titel für den Künstler '{artist_name}':\")\n",
    "    for row in results:\n",
    "        print(f\"Title ID: {row[0]}, Track Popularity: {row[1]}, Title Name: {row[2]}\")\n",
    "else:\n",
    "    print(f\"Keine Ergebnisse für den Künstler '{artist_name}' gefunden.\")"
   ],
   "id": "758be794a9f5de03",
   "outputs": [
    {
     "name": "stdout",
     "output_type": "stream",
     "text": [
      "Top 5 Titel für den Künstler 'James Blunt':\n",
      "Title ID: 11957, Track Popularity: 76.0, Title Name: You're Beautiful\n",
      "Title ID: 12039, Track Popularity: 61.0, Title Name: Carry You Home\n",
      "Title ID: 18119, Track Popularity: 56.0, Title Name: 1973 - Acoustic\n",
      "Title ID: 11979, Track Popularity: 56.0, Title Name: High\n",
      "Title ID: 21553, Track Popularity: 8.0, Title Name: Cold\n"
     ]
    }
   ],
   "execution_count": 33
  },
  {
   "metadata": {
    "ExecuteTime": {
     "end_time": "2025-01-15T10:03:27.261488Z",
     "start_time": "2025-01-15T10:03:27.253213Z"
    }
   },
   "cell_type": "code",
   "source": [
    "# Verbindung schließen\n",
    "cursor.close()\n",
    "connection.close()"
   ],
   "id": "bf86f1dc51f6a70f",
   "outputs": [],
   "execution_count": 34
  }
 ],
 "metadata": {
  "kernelspec": {
   "display_name": "Python 3",
   "language": "python",
   "name": "python3"
  },
  "language_info": {
   "codemirror_mode": {
    "name": "ipython",
    "version": 2
   },
   "file_extension": ".py",
   "mimetype": "text/x-python",
   "name": "python",
   "nbconvert_exporter": "python",
   "pygments_lexer": "ipython2",
   "version": "2.7.6"
  }
 },
 "nbformat": 4,
 "nbformat_minor": 5
}
